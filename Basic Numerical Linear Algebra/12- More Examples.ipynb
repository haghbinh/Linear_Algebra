{
 "cells": [
  {
   "cell_type": "markdown",
   "id": "b019f51b",
   "metadata": {},
   "source": [
    "# More Examples on Eigen Decomposition"
   ]
  },
  {
   "cell_type": "markdown",
   "id": "24a1cecb",
   "metadata": {},
   "source": [
    "The Gram-Schmidt process is a method for orthonormalizing a set of vectors. Here's an example of implementing the Gram-Schmidt process using NumPy in Python:"
   ]
  },
  {
   "cell_type": "code",
   "execution_count": 11,
   "id": "ac9075ee",
   "metadata": {},
   "outputs": [
    {
     "data": {
      "text/plain": [
       "3"
      ]
     },
     "execution_count": 11,
     "metadata": {},
     "output_type": "execute_result"
    }
   ],
   "source": [
    "import numpy as np\n",
    "# Example usage\n",
    "vectors = np.array([[1, 2, 1], [2, -1, 3], [3, 1, 2]], dtype=float)\n",
    "np.dot(vectors[:,1],vectors[:,2])\n",
    "np.linalg.matrix_rank(vectors)"
   ]
  },
  {
   "cell_type": "code",
   "execution_count": 12,
   "id": "8315896f",
   "metadata": {},
   "outputs": [
    {
     "name": "stdout",
     "output_type": "stream",
     "text": [
      "Original Vectors:\n",
      "[[ 1.  2.  1.]\n",
      " [ 2. -1.  3.]\n",
      " [ 3.  1.  2.]]\n",
      "\n",
      "Orthonormalized Vectors:\n",
      "[[ 0.40824829  0.81649658  0.40824829]\n",
      " [ 0.42426407 -0.56568542  0.70710678]\n",
      " [ 0.80829038 -0.11547005 -0.57735027]]\n"
     ]
    }
   ],
   "source": [
    "import numpy as np\n",
    "\n",
    "def gram_schmidt(matrix):\n",
    "    num_vectors, vector_size = matrix.shape\n",
    "    ortho_matrix = np.zeros((num_vectors, vector_size))\n",
    "    \n",
    "    for i in range(num_vectors):\n",
    "        # Orthogonalization\n",
    "        ortho_matrix[i] = matrix[i]\n",
    "        for j in range(i):\n",
    "            ortho_matrix[i] -= np.dot(matrix[i], ortho_matrix[j]) / np.dot(ortho_matrix[j], ortho_matrix[j]) * ortho_matrix[j]\n",
    "\n",
    "        # Normalization\n",
    "        ortho_matrix[i] /= np.linalg.norm(ortho_matrix[i])\n",
    "\n",
    "    return ortho_matrix\n",
    "\n",
    "\n",
    "\n",
    "# Apply Gram-Schmidt process\n",
    "orthonormalized_vectors = gram_schmidt(vectors)\n",
    "\n",
    "\n",
    "# Print the result\n",
    "print(\"Original Vectors:\")\n",
    "print(vectors)\n",
    "print(\"\\nOrthonormalized Vectors:\")\n",
    "print(orthonormalized_vectors)\n"
   ]
  },
  {
   "cell_type": "code",
   "execution_count": 13,
   "id": "3712ea7b",
   "metadata": {},
   "outputs": [
    {
     "name": "stdout",
     "output_type": "stream",
     "text": [
      "\n",
      "Columns are orthonormal: True\n"
     ]
    }
   ],
   "source": [
    "# Check if columns are orthonormal\n",
    "is_orthonormal = np.allclose(np.dot(orthonormalized_vectors.T, orthonormalized_vectors), np.eye(vectors.shape[1]))\n",
    "print(\"\\nColumns are orthonormal:\", is_orthonormal)\n"
   ]
  },
  {
   "cell_type": "code",
   "execution_count": 19,
   "id": "5b3a84f0",
   "metadata": {},
   "outputs": [
    {
     "data": {
      "text/plain": [
       "1.0"
      ]
     },
     "execution_count": 19,
     "metadata": {},
     "output_type": "execute_result"
    }
   ],
   "source": [
    "np.linalg.norm(orthonormalized_vectors[:,2])"
   ]
  },
  {
   "cell_type": "code",
   "execution_count": 20,
   "id": "4e8d4400",
   "metadata": {},
   "outputs": [],
   "source": [
    "# Define four linearly independent vectors\n",
    "vector1 = np.array([1, 2, 0, 0])\n",
    "vector2 = np.array([0, 1, 3, 0])\n",
    "vector3 = np.array([0, 0, 1, 4])\n",
    "vector4 = np.array([2, 1, 0, 1])\n",
    "\n",
    "# Verify linear independence\n",
    "original_vectors = np.vstack([vector1, vector2, vector3, vector4])\n",
    "rank = np.linalg.matrix_rank(original_vectors)"
   ]
  },
  {
   "cell_type": "code",
   "execution_count": 21,
   "id": "506bd612",
   "metadata": {},
   "outputs": [
    {
     "name": "stdout",
     "output_type": "stream",
     "text": [
      "Linearly Independent Vectors:\n",
      "Vector 1: [1 2 0 0]\n",
      "Vector 2: [0 1 3 0]\n",
      "Vector 3: [0 0 1 4]\n",
      "Vector 4: [2 1 0 1]\n",
      "\n",
      "Rank of the Vectors Matrix: 4\n"
     ]
    }
   ],
   "source": [
    "print(\"Linearly Independent Vectors:\")\n",
    "print(\"Vector 1:\", vector1)\n",
    "print(\"Vector 2:\", vector2)\n",
    "print(\"Vector 3:\", vector3)\n",
    "print(\"Vector 4:\", vector4)\n",
    "print(\"\\nRank of the Vectors Matrix:\", rank)"
   ]
  },
  {
   "cell_type": "code",
   "execution_count": 25,
   "id": "284af853",
   "metadata": {},
   "outputs": [
    {
     "data": {
      "text/plain": [
       "array([[ 0.4472136 ,  0.89442719,  0.        ,  0.        ],\n",
       "       [-0.13187609,  0.06593805,  0.98907071,  0.        ],\n",
       "       [ 0.03258657, -0.01629328,  0.00543109,  0.99932134],\n",
       "       [ 0.88405136, -0.44202568,  0.14734189, -0.03683547]])"
      ]
     },
     "execution_count": 25,
     "metadata": {},
     "output_type": "execute_result"
    }
   ],
   "source": [
    "# Step 1: Normalize the vectors using Gram-Schmidt\n",
    "orthonormalized_vectors = gram_schmidt(original_vectors)\n",
    "orthonormalized_vectors"
   ]
  },
  {
   "cell_type": "code",
   "execution_count": 28,
   "id": "df48e751",
   "metadata": {},
   "outputs": [
    {
     "data": {
      "text/plain": [
       "array([[1, 2, 0, 0],\n",
       "       [0, 1, 3, 0],\n",
       "       [0, 0, 1, 4],\n",
       "       [2, 1, 0, 1]])"
      ]
     },
     "execution_count": 28,
     "metadata": {},
     "output_type": "execute_result"
    }
   ],
   "source": [
    "original_vectors"
   ]
  },
  {
   "cell_type": "code",
   "execution_count": 27,
   "id": "f9fd563c",
   "metadata": {},
   "outputs": [
    {
     "name": "stdout",
     "output_type": "stream",
     "text": [
      "\n",
      "Rank-One Matrices:\n",
      "Matrix 1:\n",
      "[[0.4 0.8 0.  0. ]\n",
      " [0.8 1.6 0.  0. ]\n",
      " [0.  0.  0.  0. ]\n",
      " [0.  0.  0.  0. ]]\n",
      "\n",
      "Matrix 2:\n",
      "[[ 0.02608696 -0.01304348 -0.19565217 -0.        ]\n",
      " [-0.01304348  0.00652174  0.09782609  0.        ]\n",
      " [-0.19565217  0.09782609  1.4673913   0.        ]\n",
      " [-0.          0.          0.          0.        ]]\n",
      "\n",
      "Matrix 3:\n",
      "[[ 1.06188425e-03 -5.30942127e-04  1.76980709e-04  3.25644505e-02]\n",
      " [-5.30942127e-04  2.65471064e-04 -8.84903546e-05 -1.62822252e-02]\n",
      " [ 1.76980709e-04 -8.84903546e-05  2.94967849e-05  5.42740841e-03]\n",
      " [ 3.25644505e-02 -1.62822252e-02  5.42740841e-03  9.98643148e-01]]\n",
      "\n",
      "Matrix 4:\n",
      "[[ 0.39077341 -0.1953867   0.0651289  -0.01628223]\n",
      " [-0.1953867   0.09769335 -0.03256445  0.00814111]\n",
      " [ 0.0651289  -0.03256445  0.01085482 -0.0027137 ]\n",
      " [-0.01628223  0.00814111 -0.0027137   0.00067843]]\n",
      "\n"
     ]
    }
   ],
   "source": [
    "# Step 2: Create rank-one matrices from the orthogonal vectors\n",
    "eigenvalues = np.array([2.0, 1.5, 1.0, 0.5])\n",
    "rank_one_matrices = [eig * np.outer(v, v) for eig, v in zip(eigenvalues, orthonormalized_vectors)]\n",
    "\n",
    "print(\"\\nRank-One Matrices:\")\n",
    "for i, rank_one_matrix in enumerate(rank_one_matrices):\n",
    "    print(f\"Matrix {i + 1}:\\n{rank_one_matrix}\\n\")"
   ]
  },
  {
   "cell_type": "code",
   "execution_count": 30,
   "id": "cd631636",
   "metadata": {},
   "outputs": [
    {
     "name": "stdout",
     "output_type": "stream",
     "text": [
      "Sum Matrix:\n",
      "[[ 0.8179  0.591  -0.1303  0.0163]\n",
      " [ 0.591   1.7045  0.0652 -0.0081]\n",
      " [-0.1303  0.0652  1.4783  0.0027]\n",
      " [ 0.0163 -0.0081  0.0027  0.9993]]\n"
     ]
    }
   ],
   "source": [
    "# Step 3: Sum all rank-one matrices to create a new matrix\n",
    "\n",
    "sum_matrix = np.sum(rank_one_matrices, axis=0)\n",
    "print(\"Sum Matrix:\")\n",
    "print(np.round(sum_matrix,4))"
   ]
  },
  {
   "cell_type": "code",
   "execution_count": 31,
   "id": "b737b368",
   "metadata": {},
   "outputs": [
    {
     "name": "stdout",
     "output_type": "stream",
     "text": [
      "\n",
      "Eigenvalues:\n",
      "[0.5 2.  1.5 1. ]\n",
      "\n",
      "Eigenvectors:\n",
      "[[-8.84051362e-01  4.47213595e-01  1.31876095e-01  3.25865656e-02]\n",
      " [ 4.42025681e-01  8.94427191e-01 -6.59380473e-02 -1.62932828e-02]\n",
      " [-1.47341894e-01  1.39479371e-16 -9.89070710e-01  5.43109426e-03]\n",
      " [ 3.68354734e-02  1.45680745e-17  7.56716803e-17  9.99321344e-01]]\n"
     ]
    }
   ],
   "source": [
    "# Step 4: Investigate the eigen decomposition\n",
    "eigenvalues, eigenvectors = np.linalg.eig(sum_matrix)\n",
    "\n",
    "print(\"\\nEigenvalues:\")\n",
    "print(eigenvalues)\n",
    "print(\"\\nEigenvectors:\")\n",
    "print(eigenvectors)"
   ]
  },
  {
   "cell_type": "code",
   "execution_count": 42,
   "id": "3107bee1",
   "metadata": {},
   "outputs": [
    {
     "data": {
      "image/png": "[encoded data removed]",
      "text/plain": [
       "<Figure size 2000x500 with 4 Axes>"
      ]
     },
     "metadata": {},
     "output_type": "display_data"
    }
   ],
   "source": [
    "import matplotlib.pyplot as plt\n",
    "\n",
    "# Set up a 1x4 subplot grid\n",
    "fig, axes = plt.subplots(1, 4, figsize=(20, 5))\n",
    "\n",
    "# Plot each rank-one matrix in a separate subplot\n",
    "for i, (ax, rank_one_matrix) in enumerate(zip(axes, rank_one_matrices)):\n",
    "    ax.imshow(rank_one_matrix)\n",
    "    ax.set_title(f\"Rank-One Matrix {i + 1}\")\n",
    "    ax.axis('off')  # Turn off axis labels and ticks\n",
    "\n",
    "plt.show()\n"
   ]
  },
  {
   "cell_type": "code",
   "execution_count": 43,
   "id": "3ff80a53",
   "metadata": {},
   "outputs": [
    {
     "data": {
      "image/png": "[encoded data removed]",
      "text/plain": [
       "<Figure size 800x800 with 2 Axes>"
      ]
     },
     "metadata": {},
     "output_type": "display_data"
    }
   ],
   "source": [
    "import matplotlib.pyplot as plt\n",
    "\n",
    "# Plot the sum matrix\n",
    "plt.figure(figsize=(8, 8))\n",
    "plt.imshow(sum_matrix)\n",
    "plt.title(\"Sum Matrix\")\n",
    "plt.colorbar()\n",
    "plt.show()"
   ]
  },
  {
   "cell_type": "code",
   "execution_count": 45,
   "id": "3d32e6bb",
   "metadata": {},
   "outputs": [
    {
     "data": {
      "image/png": "[encoded data removed]",
      "text/plain": [
       "<Figure size 2000x500 with 4 Axes>"
      ]
     },
     "metadata": {},
     "output_type": "display_data"
    }
   ],
   "source": [
    "# Use the eigenvectors of the sum matrix to build elementary matrices\n",
    "elementary_matrices = [np.outer(v, v.T) for v in eigenvectors.T]\n",
    "\n",
    "# Plot each elementary matrix\n",
    "fig, axes = plt.subplots(1, 4, figsize=(20, 5))\n",
    "\n",
    "for i, (ax, elementary_matrix) in enumerate(zip(axes, elementary_matrices)):\n",
    "    ax.imshow(elementary_matrix, cmap='viridis', interpolation='nearest')\n",
    "    ax.set_title(f\"Elementary Matrix {i + 1}\")\n",
    "    ax.axis('off')  # Turn off axis labels and ticks\n",
    "\n",
    "plt.show()\n"
   ]
  },
  {
   "cell_type": "code",
   "execution_count": 46,
   "id": "3394443d",
   "metadata": {},
   "outputs": [
    {
     "data": {
      "image/png": "[encoded data removed]",
      "text/plain": [
       "<Figure size 640x480 with 1 Axes>"
      ]
     },
     "metadata": {},
     "output_type": "display_data"
    }
   ],
   "source": [
    "import numpy as np\n",
    "import matplotlib.pyplot as plt\n",
    "\n",
    "# Define a simple smiley face emoji matrix\n",
    "emoji_matrix = np.array([\n",
    "    [0, 0, 1, 1, 1, 1, 1, 0, 0],\n",
    "    [0, 1, 0, 0, 0, 0, 0, 1, 0],\n",
    "    [1, 0, 1, 0, 0, 0, 1, 0, 1],\n",
    "    [1, 0, 0, 1, 0, 1, 0, 0, 1],\n",
    "    [1, 0, 0, 0, 1, 0, 0, 0, 1],\n",
    "    [1, 0, 0, 1, 0, 1, 0, 0, 1],\n",
    "    [1, 0, 1, 0, 0, 0, 1, 0, 1],\n",
    "    [0, 1, 0, 0, 0, 0, 0, 1, 0],\n",
    "    [0, 0, 1, 1, 1, 1, 1, 0, 0]\n",
    "])\n",
    "\n",
    "# Plot the smiley face emoji matrix\n",
    "plt.imshow(emoji_matrix, cmap='gray', interpolation='nearest')\n",
    "plt.title(\"Smiley Face Emoji Matrix\")\n",
    "plt.axis('off')  # Turn off axis labels and ticks\n",
    "plt.show()\n"
   ]
  },
  {
   "cell_type": "code",
   "execution_count": 51,
   "id": "3d648f50",
   "metadata": {},
   "outputs": [
    {
     "data": {
      "image/png": "[encoded data removed]",
      "text/plain": [
       "<Figure size 1800x200 with 9 Axes>"
      ]
     },
     "metadata": {},
     "output_type": "display_data"
    }
   ],
   "source": [
    "# Perform eigen decomposition\n",
    "eigenvalues, eigenvectors = np.linalg.eig(emoji_matrix)\n",
    "\n",
    "# Use the eigenvectors to build elementary matrices\n",
    "elementary_matrices = [np.real(eig) * np.outer(np.real(v), np.real(v.T)) for eig, v in zip(eigenvalues, eigenvectors.T)]\n",
    "\n",
    "# Plot each elementary matrix\n",
    "fig, axes = plt.subplots(1, 9, figsize=(18, 2))\n",
    "\n",
    "for i, (ax, elementary_matrix) in enumerate(zip(axes, elementary_matrices)):\n",
    "    ax.imshow(elementary_matrix, cmap='gray', interpolation='nearest')\n",
    "    ax.set_title(f\"Elementary Matrix {i + 1}\")\n",
    "    ax.axis('off')  # Turn off axis labels and ticks\n",
    "\n",
    "plt.show()\n",
    "\n"
   ]
  },
  {
   "cell_type": "code",
   "execution_count": null,
   "id": "335ff6a8",
   "metadata": {},
   "outputs": [],
   "source": []
  }
 ],
 "metadata": {
  "kernelspec": {
   "display_name": "Python 3 (ipykernel)",
   "language": "python",
   "name": "python3"
  },
  "language_info": {
   "codemirror_mode": {
    "name": "ipython",
    "version": 3
   },
   "file_extension": ".py",
   "mimetype": "text/x-python",
   "name": "python",
   "nbconvert_exporter": "python",
   "pygments_lexer": "ipython3",
   "version": "3.11.5"
  }
 },
 "nbformat": 4,
 "nbformat_minor": 5
}
